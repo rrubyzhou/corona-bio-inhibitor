{
 "cells": [
  {
   "cell_type": "markdown",
   "id": "f489a37f-e6df-4b25-a79b-3724425b57f2",
   "metadata": {},
   "source": [
    "## Descriptor Calculation and Dataset Preparation"
   ]
  },
  {
   "cell_type": "markdown",
   "id": "5bcbb643-3415-43ea-a34e-3833ee1fac08",
   "metadata": {},
   "source": [
    "In this notebook, I am calculating molecular descriptors that are essentially quantitative description of the compounds in the dataset. I  will also be preparing this into a dataset for subsequent model building."
   ]
  },
  {
   "cell_type": "markdown",
   "id": "7a5bc242-aaf9-4d2d-8890-f02a116eb9ca",
   "metadata": {},
   "source": [
    "- to calculate molecular descriptors"
   ]
  },
  {
   "cell_type": "markdown",
   "id": "7d6fd78b-dc69-40ac-a4eb-b1afd677b7a2",
   "metadata": {},
   "source": [
    "## Load bioactivity data"
   ]
  },
  {
   "cell_type": "code",
   "execution_count": 11,
   "id": "0169e772-c8d5-437f-8f00-02b95605d88a",
   "metadata": {},
   "outputs": [
    {
     "data": {
      "text/html": [
       "<div>\n",
       "<style scoped>\n",
       "    .dataframe tbody tr th:only-of-type {\n",
       "        vertical-align: middle;\n",
       "    }\n",
       "\n",
       "    .dataframe tbody tr th {\n",
       "        vertical-align: top;\n",
       "    }\n",
       "\n",
       "    .dataframe thead th {\n",
       "        text-align: right;\n",
       "    }\n",
       "</style>\n",
       "<table border=\"1\" class=\"dataframe\">\n",
       "  <thead>\n",
       "    <tr style=\"text-align: right;\">\n",
       "      <th></th>\n",
       "      <th>molecule_chembl_id</th>\n",
       "      <th>canonical_smiles</th>\n",
       "      <th>bioactivity_class</th>\n",
       "      <th>MW</th>\n",
       "      <th>LogP</th>\n",
       "      <th>NumHDonors</th>\n",
       "      <th>NumHAcceptors</th>\n",
       "      <th>pIC50</th>\n",
       "    </tr>\n",
       "  </thead>\n",
       "  <tbody>\n",
       "    <tr>\n",
       "      <th>0</th>\n",
       "      <td>CHEMBL187579</td>\n",
       "      <td>Cc1noc(C)c1CN1C(=O)C(=O)c2cc(C#N)ccc21</td>\n",
       "      <td>intermediate</td>\n",
       "      <td>281.271</td>\n",
       "      <td>1.89262</td>\n",
       "      <td>0.0</td>\n",
       "      <td>5.0</td>\n",
       "      <td>5.142668</td>\n",
       "    </tr>\n",
       "    <tr>\n",
       "      <th>1</th>\n",
       "      <td>CHEMBL188487</td>\n",
       "      <td>O=C1C(=O)N(Cc2ccc(F)cc2Cl)c2ccc(I)cc21</td>\n",
       "      <td>intermediate</td>\n",
       "      <td>415.589</td>\n",
       "      <td>3.81320</td>\n",
       "      <td>0.0</td>\n",
       "      <td>2.0</td>\n",
       "      <td>5.026872</td>\n",
       "    </tr>\n",
       "    <tr>\n",
       "      <th>2</th>\n",
       "      <td>CHEMBL185698</td>\n",
       "      <td>O=C1C(=O)N(CC2COc3ccccc3O2)c2ccc(I)cc21</td>\n",
       "      <td>inactive</td>\n",
       "      <td>421.190</td>\n",
       "      <td>2.66050</td>\n",
       "      <td>0.0</td>\n",
       "      <td>4.0</td>\n",
       "      <td>4.869666</td>\n",
       "    </tr>\n",
       "    <tr>\n",
       "      <th>3</th>\n",
       "      <td>CHEMBL426082</td>\n",
       "      <td>O=C1C(=O)N(Cc2cc3ccccc3s2)c2ccccc21</td>\n",
       "      <td>inactive</td>\n",
       "      <td>293.347</td>\n",
       "      <td>3.63080</td>\n",
       "      <td>0.0</td>\n",
       "      <td>3.0</td>\n",
       "      <td>4.882397</td>\n",
       "    </tr>\n",
       "    <tr>\n",
       "      <th>4</th>\n",
       "      <td>CHEMBL187717</td>\n",
       "      <td>O=C1C(=O)N(Cc2cc3ccccc3s2)c2c1cccc2[N+](=O)[O-]</td>\n",
       "      <td>intermediate</td>\n",
       "      <td>338.344</td>\n",
       "      <td>3.53900</td>\n",
       "      <td>0.0</td>\n",
       "      <td>5.0</td>\n",
       "      <td>5.698970</td>\n",
       "    </tr>\n",
       "    <tr>\n",
       "      <th>...</th>\n",
       "      <td>...</td>\n",
       "      <td>...</td>\n",
       "      <td>...</td>\n",
       "      <td>...</td>\n",
       "      <td>...</td>\n",
       "      <td>...</td>\n",
       "      <td>...</td>\n",
       "      <td>...</td>\n",
       "    </tr>\n",
       "    <tr>\n",
       "      <th>240</th>\n",
       "      <td>CHEMBL4590273</td>\n",
       "      <td>Cc1cccc2nc(CSC(=S)NCc3cccnc3)cn12</td>\n",
       "      <td>active</td>\n",
       "      <td>328.466</td>\n",
       "      <td>3.34562</td>\n",
       "      <td>1.0</td>\n",
       "      <td>5.0</td>\n",
       "      <td>6.419999</td>\n",
       "    </tr>\n",
       "    <tr>\n",
       "      <th>241</th>\n",
       "      <td>CHEMBL5436771</td>\n",
       "      <td>S=C([S-])NCc1cccnc1.[K+]</td>\n",
       "      <td>active</td>\n",
       "      <td>222.379</td>\n",
       "      <td>-1.99300</td>\n",
       "      <td>1.0</td>\n",
       "      <td>3.0</td>\n",
       "      <td>6.782516</td>\n",
       "    </tr>\n",
       "    <tr>\n",
       "      <th>242</th>\n",
       "      <td>CHEMBL2365410</td>\n",
       "      <td>CC(C)C[C@H](NC(=O)OCc1ccccc1)C(=O)N[C@@H](CC1C...</td>\n",
       "      <td>active</td>\n",
       "      <td>485.559</td>\n",
       "      <td>0.54470</td>\n",
       "      <td>5.0</td>\n",
       "      <td>7.0</td>\n",
       "      <td>6.793174</td>\n",
       "    </tr>\n",
       "    <tr>\n",
       "      <th>243</th>\n",
       "      <td>CHEMBL5436771</td>\n",
       "      <td>S=C([S-])NCc1cccnc1.[K+]</td>\n",
       "      <td>active</td>\n",
       "      <td>222.379</td>\n",
       "      <td>-1.99300</td>\n",
       "      <td>1.0</td>\n",
       "      <td>3.0</td>\n",
       "      <td>6.779997</td>\n",
       "    </tr>\n",
       "    <tr>\n",
       "      <th>244</th>\n",
       "      <td>CHEMBL2365410</td>\n",
       "      <td>CC(C)C[C@H](NC(=O)OCc1ccccc1)C(=O)N[C@@H](CC1C...</td>\n",
       "      <td>active</td>\n",
       "      <td>485.559</td>\n",
       "      <td>0.54470</td>\n",
       "      <td>5.0</td>\n",
       "      <td>7.0</td>\n",
       "      <td>6.790003</td>\n",
       "    </tr>\n",
       "  </tbody>\n",
       "</table>\n",
       "<p>245 rows × 8 columns</p>\n",
       "</div>"
      ],
      "text/plain": [
       "    molecule_chembl_id                                   canonical_smiles  \\\n",
       "0         CHEMBL187579             Cc1noc(C)c1CN1C(=O)C(=O)c2cc(C#N)ccc21   \n",
       "1         CHEMBL188487             O=C1C(=O)N(Cc2ccc(F)cc2Cl)c2ccc(I)cc21   \n",
       "2         CHEMBL185698            O=C1C(=O)N(CC2COc3ccccc3O2)c2ccc(I)cc21   \n",
       "3         CHEMBL426082                O=C1C(=O)N(Cc2cc3ccccc3s2)c2ccccc21   \n",
       "4         CHEMBL187717    O=C1C(=O)N(Cc2cc3ccccc3s2)c2c1cccc2[N+](=O)[O-]   \n",
       "..                 ...                                                ...   \n",
       "240      CHEMBL4590273                  Cc1cccc2nc(CSC(=S)NCc3cccnc3)cn12   \n",
       "241      CHEMBL5436771                           S=C([S-])NCc1cccnc1.[K+]   \n",
       "242      CHEMBL2365410  CC(C)C[C@H](NC(=O)OCc1ccccc1)C(=O)N[C@@H](CC1C...   \n",
       "243      CHEMBL5436771                           S=C([S-])NCc1cccnc1.[K+]   \n",
       "244      CHEMBL2365410  CC(C)C[C@H](NC(=O)OCc1ccccc1)C(=O)N[C@@H](CC1C...   \n",
       "\n",
       "    bioactivity_class       MW     LogP  NumHDonors  NumHAcceptors     pIC50  \n",
       "0        intermediate  281.271  1.89262         0.0            5.0  5.142668  \n",
       "1        intermediate  415.589  3.81320         0.0            2.0  5.026872  \n",
       "2            inactive  421.190  2.66050         0.0            4.0  4.869666  \n",
       "3            inactive  293.347  3.63080         0.0            3.0  4.882397  \n",
       "4        intermediate  338.344  3.53900         0.0            5.0  5.698970  \n",
       "..                ...      ...      ...         ...            ...       ...  \n",
       "240            active  328.466  3.34562         1.0            5.0  6.419999  \n",
       "241            active  222.379 -1.99300         1.0            3.0  6.782516  \n",
       "242            active  485.559  0.54470         5.0            7.0  6.793174  \n",
       "243            active  222.379 -1.99300         1.0            3.0  6.779997  \n",
       "244            active  485.559  0.54470         5.0            7.0  6.790003  \n",
       "\n",
       "[245 rows x 8 columns]"
      ]
     },
     "execution_count": 11,
     "metadata": {},
     "output_type": "execute_result"
    }
   ],
   "source": [
    "import pandas as pd\n",
    "\n",
    "# Load the dataset for regression modeling\n",
    "df3 = pd.read_csv('bioactivity_data_3class_pIC50.csv')\n",
    "df3"
   ]
  },
  {
   "cell_type": "code",
   "execution_count": 12,
   "id": "15039518-4626-46b7-8dd5-c6cc7d787467",
   "metadata": {},
   "outputs": [],
   "source": [
    "\n",
    "selection = ['canonical_smiles','molecule_chembl_id']\n",
    "df3_selection = df3[selection]\n",
    "df3_selection.to_csv('molecule.smi', sep='\\t', index=False, header=False)"
   ]
  },
  {
   "cell_type": "code",
   "execution_count": 13,
   "id": "99470752-734c-4e75-8ae8-a328ca4797c5",
   "metadata": {},
   "outputs": [
    {
     "name": "stdout",
     "output_type": "stream",
     "text": [
      "Cc1noc(C)c1CN1C(=O)C(=O)c2cc(C#N)ccc21\tCHEMBL187579\n",
      "O=C1C(=O)N(Cc2ccc(F)cc2Cl)c2ccc(I)cc21\tCHEMBL188487\n",
      "O=C1C(=O)N(CC2COc3ccccc3O2)c2ccc(I)cc21\tCHEMBL185698\n",
      "O=C1C(=O)N(Cc2cc3ccccc3s2)c2ccccc21\tCHEMBL426082\n",
      "O=C1C(=O)N(Cc2cc3ccccc3s2)c2c1cccc2[N+](=O)[O-]\tCHEMBL187717\n"
     ]
    }
   ],
   "source": [
    "\n",
    "! cat molecule.smi | head -5"
   ]
  },
  {
   "cell_type": "code",
   "execution_count": 14,
   "id": "08e08a29-45db-4e09-a7c8-b5dce674734f",
   "metadata": {},
   "outputs": [
    {
     "name": "stdout",
     "output_type": "stream",
     "text": [
      "     245\n"
     ]
    }
   ],
   "source": [
    "! cat molecule.smi | wc -l"
   ]
  },
  {
   "cell_type": "markdown",
   "id": "cdef8667-0ca7-4c96-8951-d9030318a228",
   "metadata": {},
   "source": [
    "## Calculate fingerprint descriptors"
   ]
  },
  {
   "cell_type": "markdown",
   "id": "13b94fa8-48f2-4dac-89d2-85685764866b",
   "metadata": {},
   "source": [
    "### Calculate with rdkit"
   ]
  },
  {
   "cell_type": "markdown",
   "id": "c62f48b1-01b1-4751-832b-1bc7a7664b0b",
   "metadata": {},
   "source": [
    "Generate Morgan Fingerprints"
   ]
  },
  {
   "cell_type": "code",
   "execution_count": 17,
   "id": "80de938f-39a5-4ed5-8e2e-2114264d2b5f",
   "metadata": {},
   "outputs": [],
   "source": [
    "from rdkit import Chem\n",
    "from rdkit.Chem.rdFingerprintGenerator import GetMorganGenerator\n",
    "import numpy as np\n",
    "\n",
    "# Initialize Morgan fingerprint generator\n",
    "gen = GetMorganGenerator(radius=2, fpSize=2048)\n",
    "\n",
    "fps = []\n",
    "mols = []\n",
    "ids = []\n",
    "\n",
    "# Use the correct variable name here:\n",
    "for idx, row in df3_selection.iterrows():\n",
    "    mol = Chem.MolFromSmiles(row['canonical_smiles'])\n",
    "    if mol is not None:\n",
    "        fp = gen.GetFingerprint(mol)\n",
    "        fpBits = list(map(int, fp.ToBitString()))\n",
    "        fps.append(fpBits)\n",
    "        mols.append(row['canonical_smiles'])\n",
    "        ids.append(row['molecule_chembl_id'])\n",
    "\n",
    "# Build dataframe of fingerprints\n",
    "fp_df = pd.DataFrame(fps)\n",
    "fp_df.insert(0, \"molecule_chembl_id\", ids)\n",
    "fp_df.insert(0, \"canonical_smiles\", mols)"
   ]
  },
  {
   "cell_type": "markdown",
   "id": "49e3e39b-9d60-432c-81ee-446c8087c366",
   "metadata": {},
   "source": [
    "Merge with bioactivity"
   ]
  },
  {
   "cell_type": "code",
   "execution_count": 21,
   "id": "a71a5565-36c0-49c7-9a5d-a3f0fa2561f9",
   "metadata": {},
   "outputs": [
    {
     "name": "stdout",
     "output_type": "stream",
     "text": [
      "                                  canonical_smiles molecule_chembl_id  0  1  \\\n",
      "0           Cc1noc(C)c1CN1C(=O)C(=O)c2cc(C#N)ccc21       CHEMBL187579  0  0   \n",
      "1           O=C1C(=O)N(Cc2ccc(F)cc2Cl)c2ccc(I)cc21       CHEMBL188487  0  0   \n",
      "2          O=C1C(=O)N(CC2COc3ccccc3O2)c2ccc(I)cc21       CHEMBL185698  0  0   \n",
      "3              O=C1C(=O)N(Cc2cc3ccccc3s2)c2ccccc21       CHEMBL426082  0  0   \n",
      "4  O=C1C(=O)N(Cc2cc3ccccc3s2)c2c1cccc2[N+](=O)[O-]       CHEMBL187717  0  0   \n",
      "\n",
      "   2  3  4  5  6  7  ...  2039  2040  2041  2042  2043  2044  2045  2046  \\\n",
      "0  0  0  0  0  0  0  ...     0     0     0     0     0     0     0     0   \n",
      "1  0  0  0  0  0  0  ...     0     0     0     0     0     0     0     0   \n",
      "2  0  0  0  0  0  0  ...     0     0     0     0     0     0     0     0   \n",
      "3  0  0  0  0  0  0  ...     0     0     0     0     0     0     0     0   \n",
      "4  0  0  0  0  0  0  ...     0     0     0     0     0     0     0     0   \n",
      "\n",
      "   2047     pIC50  \n",
      "0     0  5.142668  \n",
      "1     0  5.026872  \n",
      "2     0  4.869666  \n",
      "3     0  4.882397  \n",
      "4     0  5.698970  \n",
      "\n",
      "[5 rows x 2051 columns]\n"
     ]
    }
   ],
   "source": [
    "# Merge fingerprints with pIC50 values (join on molecule_chembl_id)\n",
    "final_df = fp_df.merge(df3[['molecule_chembl_id', 'pIC50']], on='molecule_chembl_id')\n",
    "\n",
    "# Check result\n",
    "print(final_df.head())\n"
   ]
  },
  {
   "cell_type": "code",
   "execution_count": 22,
   "id": "7d08f921-94b2-4477-8000-d8e6951003a7",
   "metadata": {},
   "outputs": [],
   "source": [
    "# Save to CSV\n",
    "final_df.to_csv('bioactivity_data_3class_pIC50_morgan_fp.csv', index=False)\n"
   ]
  },
  {
   "cell_type": "code",
   "execution_count": null,
   "id": "dd806547-dabd-4be8-a8c3-03a9efdba1d4",
   "metadata": {},
   "outputs": [],
   "source": []
  }
 ],
 "metadata": {
  "kernelspec": {
   "display_name": "Python (rdkit-env)",
   "language": "python",
   "name": "rdkit-env"
  },
  "language_info": {
   "codemirror_mode": {
    "name": "ipython",
    "version": 3
   },
   "file_extension": ".py",
   "mimetype": "text/x-python",
   "name": "python",
   "nbconvert_exporter": "python",
   "pygments_lexer": "ipython3",
   "version": "3.9.23"
  }
 },
 "nbformat": 4,
 "nbformat_minor": 5
}
